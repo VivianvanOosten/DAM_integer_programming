{
 "cells": [
  {
   "cell_type": "markdown",
   "metadata": {},
   "source": [
    "**IP.2** [Facility location]\n",
    "A company is considering opening warehouses in four cities: New York, Los Angeles, Chicago and Atlanta. Each warehouse can ship 100 units per week. The weekly fixed cost of keeping each warehouse open is \\\\$400 for New York, \\\\$500 for Los Angeles, \\\\$300 for Chicago and \\\\$150 for Atlanta. Region 1 of the country requires 80 units per week, region 2 requires 70 units per week and region 3 requires 40 units per week. The costs (including production and shipping costs) of sending one unit from a plant\n",
    "to a region are shown in the table below.\n",
    "\n",
    "  \n",
    "| From/To       | Region 1      | Region 2|Region 3|\n",
    "| ------------- |:-------------:| -------:|-------:|\n",
    "| NY      | 20 | 40 |50|\n",
    "| LA      | 48      |   15 |26|\n",
    "| Chicago| 26     |    35 |18|\n",
    "|    Atlanta           |        24       |      50   |35|"
   ]
  },
  {
   "cell_type": "markdown",
   "metadata": {},
   "source": [
    "****Part a)**** Formulate an IP to meet weekly demands at minimum costs."
   ]
  },
  {
   "cell_type": "markdown",
   "metadata": {},
   "source": [
    "First, create the model object and the decision variables."
   ]
  },
  {
   "cell_type": "code",
   "execution_count": 395,
   "metadata": {},
   "outputs": [],
   "source": [
    "import gurobipy as gp\n",
    "from gurobipy import GRB,quicksum\n",
    "\n",
    "#Create a model object\n",
    "m=gp.Model('Facility Location')"
   ]
  },
  {
   "cell_type": "code",
   "execution_count": 396,
   "metadata": {},
   "outputs": [],
   "source": [
    "cities=['N','L','C','A']\n",
    "regions=[1,2,3]\n",
    "\n",
    "#Uncomment and fill the code below to create the decision variables\n",
    "x=m.addVars(cities,regions,lb= 0 ,vtype= GRB.INTEGER )\n",
    "y=m.addVars(cities,vtype= GRB.BINARY ) "
   ]
  },
  {
   "cell_type": "markdown",
   "metadata": {},
   "source": [
    "Next, we specify the objective function:"
   ]
  },
  {
   "cell_type": "code",
   "execution_count": 397,
   "metadata": {},
   "outputs": [],
   "source": [
    "#Lists corresponding to costs\n",
    "shipping_costs={'N':[20,40,50],'L':[48,15,26],'C':[26,35,18],'A':[24,50,35]}\n",
    "fixed_cost={'N':400,'L':500,'C':300,'A':150}\n",
    "\n",
    "#Uncomment and fill the code below to specify the objective function\n",
    "m.setObjective(\n",
    "    quicksum(fixed_cost[c] * y[c] for c in cities) + \n",
    "    quicksum(shipping_costs[c][r-1] * x[c,r] * y[c] for c in cities for r in regions), \n",
    "    GRB.MINIMIZE\n",
    ")"
   ]
  },
  {
   "cell_type": "markdown",
   "metadata": {},
   "source": [
    "Add constraints ensuring that the demand for each region is satisfied:"
   ]
  },
  {
   "cell_type": "code",
   "execution_count": 398,
   "metadata": {
    "scrolled": true
   },
   "outputs": [
    {
     "data": {
      "text/plain": [
       "{1: <gurobi.Constr *Awaiting Model Update*>,\n",
       " 2: <gurobi.Constr *Awaiting Model Update*>,\n",
       " 3: <gurobi.Constr *Awaiting Model Update*>}"
      ]
     },
     "execution_count": 398,
     "metadata": {},
     "output_type": "execute_result"
    }
   ],
   "source": [
    "#Demand for each region\n",
    "demands={1:80,2:70,3:40}\n",
    "\n",
    "#Insert your code here:\n",
    "m.addConstrs(\n",
    "    quicksum(x[c,r] for c in cities) >= demands[r] for r in regions\n",
    ")"
   ]
  },
  {
   "cell_type": "markdown",
   "metadata": {},
   "source": [
    "Add constraints ensuring that each warehouse can ship at most 100 units per week:"
   ]
  },
  {
   "cell_type": "code",
   "execution_count": 399,
   "metadata": {},
   "outputs": [
    {
     "data": {
      "text/plain": [
       "{'N': <gurobi.Constr *Awaiting Model Update*>,\n",
       " 'L': <gurobi.Constr *Awaiting Model Update*>,\n",
       " 'C': <gurobi.Constr *Awaiting Model Update*>,\n",
       " 'A': <gurobi.Constr *Awaiting Model Update*>}"
      ]
     },
     "execution_count": 399,
     "metadata": {},
     "output_type": "execute_result"
    }
   ],
   "source": [
    "#Insert your code here:\n",
    "m.addConstrs(\n",
    "    quicksum(x[c,r] for r in regions) <= 100*y[c] for c in cities\n",
    ")"
   ]
  },
  {
   "cell_type": "markdown",
   "metadata": {},
   "source": [
    "****Part b)**** Write a constraint for: if the New York warehouse is opened, then the Los Angeles warehouse must be opened."
   ]
  },
  {
   "cell_type": "markdown",
   "metadata": {},
   "source": [
    "Find an inequality involving the binary variable for New York and that for Los Angeles. "
   ]
  },
  {
   "cell_type": "code",
   "execution_count": 400,
   "metadata": {},
   "outputs": [
    {
     "data": {
      "text/plain": [
       "<gurobi.Constr *Awaiting Model Update*>"
      ]
     },
     "execution_count": 400,
     "metadata": {},
     "output_type": "execute_result"
    }
   ],
   "source": [
    "#Insert your code here:\n",
    "m.addConstr(\n",
    "    y['L'] >= y['N']\n",
    ")"
   ]
  },
  {
   "cell_type": "markdown",
   "metadata": {},
   "source": [
    "****Part c)**** Write a constraint for:  at most two warehouses can be opened."
   ]
  },
  {
   "cell_type": "code",
   "execution_count": 401,
   "metadata": {},
   "outputs": [
    {
     "data": {
      "text/plain": [
       "<gurobi.Constr *Awaiting Model Update*>"
      ]
     },
     "execution_count": 401,
     "metadata": {},
     "output_type": "execute_result"
    }
   ],
   "source": [
    "#Insert your code here:\n",
    "m.addConstr(\n",
    "    quicksum(y[c] for c in cities) <= 2\n",
    ")"
   ]
  },
  {
   "cell_type": "markdown",
   "metadata": {},
   "source": [
    "****Part d)**** Write a constraint for:  either the Atlanta or the Los Angeles warehouse must be opened."
   ]
  },
  {
   "cell_type": "code",
   "execution_count": 402,
   "metadata": {},
   "outputs": [
    {
     "data": {
      "text/plain": [
       "<gurobi.Constr *Awaiting Model Update*>"
      ]
     },
     "execution_count": 402,
     "metadata": {},
     "output_type": "execute_result"
    }
   ],
   "source": [
    "#Insert your code here:\n",
    "m.addConstr(\n",
    "    y['A'] + y['L'] <= 1\n",
    ")\n",
    "m.addConstr(\n",
    "    y['A'] + y['L'] >=1\n",
    ")"
   ]
  },
  {
   "cell_type": "markdown",
   "metadata": {},
   "source": [
    "****Part e)**** Write a constraint for:  for shipping to be economically feasible, at least 20 units must be shipped."
   ]
  },
  {
   "cell_type": "code",
   "execution_count": 403,
   "metadata": {},
   "outputs": [],
   "source": [
    "#Insert your code here:\n",
    "# m.addConstrs(\n",
    "#     x[c,r]**2  >= 20 * x[c,r] for c in cities for r in regions\n",
    "# )\n",
    "# this is not a linear constraint, \n",
    "# since there is no linear constraint without an auxiliary variable that will\n",
    "# accurately reflect this constraint\n",
    "\n",
    "# we could do the same thing with auxiliary variables, \n",
    "# which would require an auxiliary variable for each combination of region and city\n",
    "aux = m.addVars(cities, regions, vtype = GRB.BINARY)\n",
    "M = 99999\n",
    "m.addConstrs( x[c,r] >= 20 - M * aux[c,r] for c in cities for r in regions)\n",
    "m.addConstrs( x[c,r] <= 0 + M * (1-aux[c,r]) for c in cities for r in regions)\n",
    "\n",
    "# alternatively, we could require each operating warehouse to ship at least \n",
    "# 20 units to each region. However, this would be a binding constraint and change\n",
    "# our optimal solution compared to the other two options.\n",
    "# The constraint would then be:\n",
    "# m.addConstrs( x[c,r] >= 20*y[c] for c in cities for r in regions)\n",
    "\n",
    "m.update()"
   ]
  },
  {
   "cell_type": "markdown",
   "metadata": {},
   "source": [
    "****Part f)**** Write constraints for:  if New York ships to region 1, then no other warehouses can ship to region 1."
   ]
  },
  {
   "cell_type": "markdown",
   "metadata": {},
   "source": [
    "First, introduce a new binary variable that will indicate if New York ships to region 1."
   ]
  },
  {
   "cell_type": "code",
   "execution_count": 404,
   "metadata": {},
   "outputs": [],
   "source": [
    "#Uncomment and fill the code below to add the new binary variable:\n",
    "\n",
    "y_N1 = m.addVar(lb = 0, vtype = GRB.BINARY)"
   ]
  },
  {
   "cell_type": "markdown",
   "metadata": {},
   "source": [
    "Now, introduce constraints that ensure $y_{N1}$(the new variable) is 1 when $x_{N1}$ is positive, and 0 otherwise."
   ]
  },
  {
   "cell_type": "code",
   "execution_count": 405,
   "metadata": {},
   "outputs": [
    {
     "data": {
      "text/plain": [
       "<gurobi.Constr *Awaiting Model Update*>"
      ]
     },
     "execution_count": 405,
     "metadata": {},
     "output_type": "execute_result"
    }
   ],
   "source": [
    "#Uncomment and fill the code below:\n",
    "M= 9999999\n",
    "m.addConstr(x['N',1] <= 0 + M*y_N1)"
   ]
  },
  {
   "cell_type": "markdown",
   "metadata": {},
   "source": [
    "Next, using the new variable, add a new constraint to make sure no other warehouse can ship to region 1 if New York ships to region 1."
   ]
  },
  {
   "cell_type": "code",
   "execution_count": 406,
   "metadata": {},
   "outputs": [
    {
     "data": {
      "text/plain": [
       "<gurobi.Constr *Awaiting Model Update*>"
      ]
     },
     "execution_count": 406,
     "metadata": {},
     "output_type": "execute_result"
    }
   ],
   "source": [
    "#Insert your code here:\n",
    "m.addConstr(x['L',1] + x['C',1] + x['A',1] <= 0 + M * (1- y_N1 ))"
   ]
  },
  {
   "cell_type": "markdown",
   "metadata": {},
   "source": [
    "Finally, we solve the model and printout the optimal revenue!"
   ]
  },
  {
   "cell_type": "code",
   "execution_count": 407,
   "metadata": {},
   "outputs": [
    {
     "name": "stdout",
     "output_type": "stream",
     "text": [
      "Set parameter NonConvex to value 2\n",
      "Gurobi Optimizer version 10.0.0 build v10.0.0rc2 (mac64[rosetta2])\n",
      "\n",
      "CPU model: Apple M1 Pro\n",
      "Thread count: 8 physical cores, 8 logical processors, using up to 8 threads\n",
      "\n",
      "Optimize a model with 37 rows, 29 columns and 92 nonzeros\n",
      "Model fingerprint: 0xdf43e1c8\n",
      "Model has 12 quadratic objective terms\n",
      "Variable types: 0 continuous, 29 integer (17 binary)\n",
      "Coefficient statistics:\n",
      "  Matrix range     [1e+00, 1e+07]\n",
      "  Objective range  [2e+02, 5e+02]\n",
      "  QObjective range [3e+01, 1e+02]\n",
      "  Bounds range     [1e+00, 1e+00]\n",
      "  RHS range        [1e+00, 1e+07]\n",
      "Found heuristic solution: objective 8150.0000000\n",
      "Presolve removed 3 rows and 2 columns\n",
      "Presolve time: 0.01s\n",
      "Presolved: 46 rows, 39 columns, 120 nonzeros\n",
      "Variable types: 0 continuous, 39 integer (15 binary)\n",
      "Found heuristic solution: objective 8132.0000000\n",
      "\n",
      "Root relaxation: objective 5.258333e+02, 24 iterations, 0.00 seconds (0.00 work units)\n",
      "\n",
      "    Nodes    |    Current Node    |     Objective Bounds      |     Work\n",
      " Expl Unexpl |  Obj  Depth IntInf | Incumbent    BestBd   Gap | It/Node Time\n",
      "\n",
      "     0     0  525.83333    0   12 8132.00000  525.83333  93.5%     -    0s\n",
      "H    0     0                    6342.0000000  525.83333  91.7%     -    0s\n",
      "H    0     0                    6226.0000000  525.83333  91.6%     -    0s\n",
      "H    0     0                    6214.0000000  525.83333  91.5%     -    0s\n",
      "H    0     0                    5070.0000000  525.83333  89.6%     -    0s\n",
      "H    0     0                    4810.0000000  525.83333  89.1%     -    0s\n",
      "\n",
      "Cutting planes:\n",
      "  Gomory: 1\n",
      "  Cover: 10\n",
      "  Implied bound: 11\n",
      "  Clique: 15\n",
      "  MIR: 6\n",
      "  StrongCG: 3\n",
      "  Flow cover: 4\n",
      "  Mod-K: 1\n",
      "  Network: 2\n",
      "  RLT: 3\n",
      "  Relax-and-lift: 3\n",
      "  PSD: 2\n",
      "\n",
      "Explored 1 nodes (35 simplex iterations) in 0.04 seconds (0.00 work units)\n",
      "Thread count was 8 (of 8 available processors)\n",
      "\n",
      "Solution count 7: 4810 5070 6214 ... 8150\n",
      "\n",
      "Optimal solution found (tolerance 1.00e-04)\n",
      "Best objective 4.810000000000e+03, best bound 4.810000000000e+03, gap 0.0000%\n",
      "\n",
      "Total costs: 4810\n",
      "\n",
      "Shipped amounts:\n",
      "N to 1: 0\n",
      "N to 2: -0\n",
      "N to 3: -0\n",
      "L to 1: 0\n",
      "L to 2: 70\n",
      "L to 3: 20\n",
      "C to 1: 80\n",
      "C to 2: 0\n",
      "C to 3: 20\n",
      "A to 1: -0\n",
      "A to 2: 0\n",
      "A to 3: -0\n"
     ]
    }
   ],
   "source": [
    "def printSolution():\n",
    "    if m.status == GRB.OPTIMAL:\n",
    "        print('\\nTotal costs: %g' % m.objVal)\n",
    "        print('\\nShipped amounts:')\n",
    "        shipped_amountsx = m.getAttr('x', x)\n",
    "        for c in cities:\n",
    "            for r in regions:            \n",
    "                print('%s to %s: %g' % (c,r, shipped_amountsx[c,r]))\n",
    "    else:\n",
    "        print('No solution:', m.status)\n",
    "\n",
    "m.params.NonConvex = 2\n",
    "m.optimize()\n",
    "printSolution()"
   ]
  },
  {
   "cell_type": "code",
   "execution_count": null,
   "metadata": {},
   "outputs": [],
   "source": []
  }
 ],
 "metadata": {
  "kernelspec": {
   "display_name": "dam23",
   "language": "python",
   "name": "python3"
  },
  "language_info": {
   "codemirror_mode": {
    "name": "ipython",
    "version": 3
   },
   "file_extension": ".py",
   "mimetype": "text/x-python",
   "name": "python",
   "nbconvert_exporter": "python",
   "pygments_lexer": "ipython3",
   "version": "3.10.8"
  },
  "vscode": {
   "interpreter": {
    "hash": "ff046cce7eead1ea32eadf235648f3c453c368d0ff21e216a49a8ca8e2818468"
   }
  }
 },
 "nbformat": 4,
 "nbformat_minor": 2
}
