{
 "cells": [
  {
   "cell_type": "markdown",
   "metadata": {},
   "source": [
    "**IP.2** [Facility location]\n",
    "A company is considering opening warehouses in four cities: New York, Los Angeles, Chicago and Atlanta. Each warehouse can ship 100 units per week. The weekly fixed cost of keeping each warehouse open is \\\\$400 for New York, \\\\$500 for Los Angeles, \\\\$300 for Chicago and \\\\$150 for Atlanta. Region 1 of the country requires 80 units per week, region 2 requires 70 units per week and region 3 requires 40 units per week. The costs (including production and shipping costs) of sending one unit from a plant\n",
    "to a region are shown in the table below.\n",
    "\n",
    "  \n",
    "| From/To       | Region 1      | Region 2|Region 3|\n",
    "| ------------- |:-------------:| -------:|-------:|\n",
    "| NY      | 20 | 40 |50|\n",
    "| LA      | 48      |   15 |26|\n",
    "| Chicago| 26     |    35 |18|\n",
    "|    Atlanta           |        24       |      50   |35|"
   ]
  },
  {
   "cell_type": "markdown",
   "metadata": {},
   "source": [
    "****Part a)**** Formulate an IP to meet weekly demands at minimum costs."
   ]
  },
  {
   "cell_type": "markdown",
   "metadata": {},
   "source": [
    "First, create the model object and the decision variables."
   ]
  },
  {
   "cell_type": "code",
   "execution_count": null,
   "metadata": {},
   "outputs": [],
   "source": [
    "import gurobipy as gp\n",
    "from gurobipy import GRB,quicksum\n",
    "\n",
    "#Create a model object\n",
    "m=gp.Model('Facility Location')"
   ]
  },
  {
   "cell_type": "code",
   "execution_count": null,
   "metadata": {},
   "outputs": [],
   "source": [
    "cities=['N','L','C','A']\n",
    "regions=[1,2,3]\n",
    "\n",
    "#Uncomment and fill the code below to create the decision variables\n",
    "# x=m.addVars(cities,regions,lb=  ,vtype=  )\n",
    "# y=m.addVars(cities,vtype=  ) "
   ]
  },
  {
   "cell_type": "markdown",
   "metadata": {},
   "source": [
    "Next, we specify the objective function:"
   ]
  },
  {
   "cell_type": "code",
   "execution_count": null,
   "metadata": {},
   "outputs": [],
   "source": [
    "#Lists corresponding to costs\n",
    "shipping_costs={'N':[20,40,50],'L':[48,15,26],'C':[26,35,18],'A':[24,50,35]}\n",
    "fixed_cost={'N':400,'L':500,'C':300,'A':150}\n",
    "\n",
    "#Uncomment and fill the code below to specify the objective function\n",
    "# m.setObjective()"
   ]
  },
  {
   "cell_type": "markdown",
   "metadata": {},
   "source": [
    "Add constraints ensuring that the demand for each region is satisfied:"
   ]
  },
  {
   "cell_type": "code",
   "execution_count": null,
   "metadata": {
    "scrolled": true
   },
   "outputs": [],
   "source": [
    "#Demand for each region\n",
    "demands={1:80,2:70,3:40}\n",
    "\n",
    "#Insert your code here:\n",
    "# m.addConstrs()"
   ]
  },
  {
   "cell_type": "markdown",
   "metadata": {},
   "source": [
    "Add constraints ensuring that each warehouse can ship at most 100 units per week:"
   ]
  },
  {
   "cell_type": "code",
   "execution_count": null,
   "metadata": {},
   "outputs": [],
   "source": [
    "#Insert your code here:\n"
   ]
  },
  {
   "cell_type": "markdown",
   "metadata": {},
   "source": [
    "****Part b)**** Write a constraint for: if the New York warehouse is opened, then the Los Angeles warehouse must be opened."
   ]
  },
  {
   "cell_type": "markdown",
   "metadata": {},
   "source": [
    "Find an inequality involving the binary variable for New York and that for Los Angeles. "
   ]
  },
  {
   "cell_type": "code",
   "execution_count": null,
   "metadata": {},
   "outputs": [],
   "source": [
    "#Insert your code here:\n"
   ]
  },
  {
   "cell_type": "markdown",
   "metadata": {},
   "source": [
    "****Part c)**** Write a constraint for:  at most two warehouses can be opened."
   ]
  },
  {
   "cell_type": "code",
   "execution_count": null,
   "metadata": {},
   "outputs": [],
   "source": [
    "#Insert your code here:\n"
   ]
  },
  {
   "cell_type": "markdown",
   "metadata": {},
   "source": [
    "****Part d)**** Write a constraint for:  either the Atlanta or the Los Angeles warehouse must be opened."
   ]
  },
  {
   "cell_type": "code",
   "execution_count": null,
   "metadata": {},
   "outputs": [],
   "source": [
    "#Insert your code here:\n"
   ]
  },
  {
   "cell_type": "markdown",
   "metadata": {},
   "source": [
    "****Part e)**** Write a constraint for:  for shipping to be economically feasible, at least 20 units must be shipped."
   ]
  },
  {
   "cell_type": "code",
   "execution_count": null,
   "metadata": {},
   "outputs": [],
   "source": [
    "#Insert your code here:\n"
   ]
  },
  {
   "cell_type": "markdown",
   "metadata": {},
   "source": [
    "****Part f)**** Write constraints for:  if New York ships to region 1, then no other warehouses can ship to region 1."
   ]
  },
  {
   "cell_type": "markdown",
   "metadata": {},
   "source": [
    "First, introduce a new binary variable that will indicate if New York ships to region 1."
   ]
  },
  {
   "cell_type": "code",
   "execution_count": null,
   "metadata": {},
   "outputs": [],
   "source": [
    "#Uncomment and fill the code below to add the new binary variable:\n",
    "\n",
    "#y_N1="
   ]
  },
  {
   "cell_type": "markdown",
   "metadata": {},
   "source": [
    "Now, introduce constraints that ensure $y_{N1}$(the new variable) is 1 when $x_{N1}$ is positive, and 0 otherwise."
   ]
  },
  {
   "cell_type": "code",
   "execution_count": null,
   "metadata": {},
   "outputs": [],
   "source": [
    "#Uncomment and fill the code below:\n",
    "\n",
    "#m.addConstr()\n",
    "M= #big-M value \n",
    "#m.addConstr()"
   ]
  },
  {
   "cell_type": "markdown",
   "metadata": {},
   "source": [
    "Next, using the new variable, add a new constraint to make sure no other warehouse can ship to region 1 if New York ships to region 1."
   ]
  },
  {
   "cell_type": "code",
   "execution_count": null,
   "metadata": {},
   "outputs": [],
   "source": [
    "#Insert your code here:\n"
   ]
  },
  {
   "cell_type": "markdown",
   "metadata": {},
   "source": [
    "Finally, we solve the model and printout the optimal revenue!"
   ]
  },
  {
   "cell_type": "code",
   "execution_count": null,
   "metadata": {},
   "outputs": [],
   "source": [
    "def printSolution():\n",
    "    if m.status == GRB.OPTIMAL:\n",
    "        print('\\n Optimal cost is : %g' % m.objVal)\n",
    "    else:\n",
    "        print('No solution:', m.status)\n",
    "        \n",
    "m.optimize()\n",
    "printSolution()"
   ]
  }
 ],
 "metadata": {
  "kernelspec": {
   "display_name": "Python 3",
   "language": "python",
   "name": "python3"
  },
  "language_info": {
   "codemirror_mode": {
    "name": "ipython",
    "version": 3
   },
   "file_extension": ".py",
   "mimetype": "text/x-python",
   "name": "python",
   "nbconvert_exporter": "python",
   "pygments_lexer": "ipython3",
   "version": "3.7.3"
  }
 },
 "nbformat": 4,
 "nbformat_minor": 2
}
